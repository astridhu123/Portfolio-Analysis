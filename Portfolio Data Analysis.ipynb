{
 "cells": [
  {
   "cell_type": "code",
   "execution_count": 3,
   "id": "40b5b99c",
   "metadata": {},
   "outputs": [],
   "source": [
    "import matplotlib.pyplot as plt\n",
    "import numpy as np\n",
    "import pandas as pd\n",
    "from sklearn.linear_model import LinearRegression as LR"
   ]
  },
  {
   "cell_type": "code",
   "execution_count": 7,
   "id": "2cafaedc",
   "metadata": {},
   "outputs": [],
   "source": [
    "spy = pd.read_csv('SPY.csv')\n",
    "aapl = pd.read_csv('AAPL.csv')\n",
    "jpm = pd.read_csv('JPM.csv')"
   ]
  },
  {
   "cell_type": "code",
   "execution_count": 8,
   "id": "dab98875",
   "metadata": {},
   "outputs": [
    {
     "name": "stdout",
     "output_type": "stream",
     "text": [
      "         Date        Open        High         Low       Close   Adj Close  \\\n",
      "0  2018-08-20  285.570007  285.970001  285.059998  285.670013  260.555939   \n",
      "1  2018-08-21  286.250000  287.309998  285.709991  286.339996  261.166962   \n",
      "2  2018-08-22  285.880005  286.760010  285.579987  286.170013  261.011993   \n",
      "3  2018-08-23  285.970001  286.940002  285.429993  285.790009  260.665375   \n",
      "4  2018-08-24  286.440002  287.670013  286.380005  287.510010  262.234131   \n",
      "\n",
      "     Volume  \n",
      "0  39807500  \n",
      "1  67272000  \n",
      "2  44993300  \n",
      "3  49204900  \n",
      "4  57487400  \n"
     ]
    }
   ],
   "source": [
    "print(spy.head())"
   ]
  },
  {
   "cell_type": "code",
   "execution_count": 11,
   "id": "ff2e54e9",
   "metadata": {},
   "outputs": [
    {
     "data": {
      "image/png": "[encoded data removed]",
      "text/plain": [
       "<Figure size 640x480 with 1 Axes>"
      ]
     },
     "metadata": {},
     "output_type": "display_data"
    }
   ],
   "source": [
    "cols = ['Open', 'High', 'Low', 'Close', 'Adj Close']\n",
    "spy[cols].plot.box()\n",
    "plt.title('Price Distribution')\n",
    "plt.ylabel('Price')\n",
    "plt.figsize=(15, 10)\n",
    "plt.show()"
   ]
  },
  {
   "cell_type": "code",
   "execution_count": 19,
   "id": "df44b0ab",
   "metadata": {},
   "outputs": [
    {
     "name": "stdout",
     "output_type": "stream",
     "text": [
      "        SPY      AAPL       JPM\n",
      "1  0.002345 -0.001950  0.006107\n",
      "2 -0.000593  0.000047 -0.003035\n",
      "3 -0.001328  0.002046 -0.002087\n",
      "4  0.006018  0.003109 -0.000436\n",
      "5  0.007896  0.008235  0.017701\n"
     ]
    }
   ],
   "source": [
    "adj_close = pd.DataFrame({'SPY': spy['Adj Close'],\n",
    "                          'AAPL': aapl['Adj Close'],\n",
    "                          'JPM': jpm['Adj Close']})\n",
    "\n",
    "adj_close_pct_change = adj_close.pct_change()\n",
    "\n",
    "adj_close_pct_change = adj_close_pct_change.dropna()\n",
    "\n",
    "print(adj_close_pct_change.head())"
   ]
  },
  {
   "cell_type": "code",
   "execution_count": 21,
   "id": "668c5e9e",
   "metadata": {},
   "outputs": [
    {
     "name": "stdout",
     "output_type": "stream",
     "text": [
      "beta: [1.26017822]\n"
     ]
    }
   ],
   "source": [
    "y = adj_close_pct_change['AAPL'][1:].array\n",
    "x = adj_close_pct_change['SPY'][1:].array.reshape(-1, 1)\n",
    "model2 = LR().fit(x, y)\n",
    "\n",
    "print(f\"beta: {model2.coef_}\")"
   ]
  },
  {
   "cell_type": "code",
   "execution_count": 24,
   "id": "c39de896",
   "metadata": {},
   "outputs": [
    {
     "name": "stdout",
     "output_type": "stream",
     "text": [
      "      historical mean  historical std\n",
      "JPM         -0.001022        0.014014\n",
      "AAPL        -0.003288        0.024107\n"
     ]
    }
   ],
   "source": [
    "historical_JPM_AAPL = adj_close_pct_change[['JPM', 'AAPL']][1:101]\n",
    "future_JPM_AAPL = adj_close_pct_change[['JPM', 'AAPL']][101:]\n",
    "\n",
    "hist_mean = pd.DataFrame.mean(historical_JPM_AAPL)\n",
    "hist_std = pd.DataFrame.std(historical_JPM_AAPL)\n",
    "\n",
    "historical_stats = hist_mean.to_frame()\n",
    "historical_stats.columns = ['historical mean']\n",
    "historical_stats['historical std'] = hist_std.to_frame()\n",
    "print(historical_stats)"
   ]
  },
  {
   "cell_type": "code",
   "execution_count": 25,
   "id": "74aec597",
   "metadata": {},
   "outputs": [
    {
     "name": "stdout",
     "output_type": "stream",
     "text": [
      "[[1.         0.58520725]\n",
      " [0.58520725 1.        ]]\n"
     ]
    }
   ],
   "source": [
    "R_2 = np.corrcoef(historical_JPM_AAPL['JPM'], historical_JPM_AAPL['AAPL'])\n",
    "print(R_2)"
   ]
  },
  {
   "cell_type": "code",
   "execution_count": 38,
   "id": "8cb27f6b",
   "metadata": {},
   "outputs": [
    {
     "name": "stdout",
     "output_type": "stream",
     "text": [
      "   future mean  future std\n",
      "0     0.000806    0.019633\n",
      "1     0.000983    0.018612\n",
      "2     0.001159    0.018619\n",
      "3     0.001336    0.019654\n"
     ]
    }
   ],
   "source": [
    "W1 = [0.2, 0.4, 0.6, 0.8]\n",
    "W2 = [0.8, 0.6, 0.4, 0.2]\n",
    "\n",
    "for i in range(len(W1)):\n",
    "    aapl_col = 'AAPL_' + str(W1[i])\n",
    "    jpm_col = 'JPM_' + str(W2[i])\n",
    "    future_JPM_AAPL[aapl_col] = W1[i] * future_JPM_AAPL['AAPL']\n",
    "    future_JPM_AAPL[jpm_col] = W2[i] * future_JPM_AAPL['JPM']\n",
    "    \n",
    "portfolio_1 = future_JPM_AAPL['AAPL_0.2'] + future_JPM_AAPL['JPM_0.8']\n",
    "portfolio_2 = future_JPM_AAPL['AAPL_0.4'] + future_JPM_AAPL['JPM_0.6']\n",
    "portfolio_3 = future_JPM_AAPL['AAPL_0.6'] + future_JPM_AAPL['JPM_0.4']\n",
    "portfolio_4 = future_JPM_AAPL['AAPL_0.8'] + future_JPM_AAPL['JPM_0.2']\n",
    "\n",
    "fut_mean_1 = portfolio_1.mean()\n",
    "fut_std_1 = portfolio_1.std()\n",
    "fut_mean_2 = portfolio_2.mean()\n",
    "fut_std_2 = portfolio_2.std()\n",
    "fut_mean_3 = portfolio_3.mean()\n",
    "fut_std_3 = portfolio_3.std()\n",
    "fut_mean_4 = portfolio_4.mean()\n",
    "fut_std_4 = portfolio_4.std()\n",
    "\n",
    "df_portfolio_indices = ['portfolio 1', 'portfolio 2', 'portfolio 3', 'portfolio 4']\n",
    "portfolio = pd.DataFrame({'future mean': [fut_mean_1, fut_mean_2, fut_mean_3, fut_mean_4],\n",
    "                          'future std': [fut_std_1, fut_std_2, fut_std_3, fut_std_4]})\n",
    "\n",
    "print(portfolio)"
   ]
  },
  {
   "cell_type": "code",
   "execution_count": 36,
   "id": "85828da1",
   "metadata": {},
   "outputs": [
    {
     "name": "stdout",
     "output_type": "stream",
     "text": [
      "      future mean  future std  Sharpe Ratio\n",
      "AAPL     0.001512    0.021569      0.070122\n",
      "JPM      0.000630    0.021536      0.029239\n",
      "0        0.000806    0.019633      0.041066\n",
      "1        0.000983    0.018612      0.052805\n",
      "2        0.001159    0.018619      0.062265\n",
      "3        0.001336    0.019654      0.067970\n"
     ]
    }
   ],
   "source": [
    "future_mean = pd.DataFrame.mean(future_JPM_AAPL[['AAPL', 'JPM']])\n",
    "future_std = pd.DataFrame.std(future_JPM_AAPL[['AAPL', 'JPM']])\n",
    "future_stats = future_mean.to_frame()\n",
    "future_stats.columns = ['future mean']\n",
    "future_stats['future std'] = future_std.to_frame()\n",
    "\n",
    "frames = [future_stats, portfolio]\n",
    "future_stats = pd.concat(frames)\n",
    "\n",
    "future_stats['Sharpe Ratio'] = future_stats['future mean'] / future_stats['future std']\n",
    "print(future_stats)"
   ]
  }
 ],
 "metadata": {
  "kernelspec": {
   "display_name": "Python 3 (ipykernel)",
   "language": "python",
   "name": "python3"
  },
  "language_info": {
   "codemirror_mode": {
    "name": "ipython",
    "version": 3
   },
   "file_extension": ".py",
   "mimetype": "text/x-python",
   "name": "python",
   "nbconvert_exporter": "python",
   "pygments_lexer": "ipython3",
   "version": "3.11.6"
  }
 },
 "nbformat": 4,
 "nbformat_minor": 5
}
